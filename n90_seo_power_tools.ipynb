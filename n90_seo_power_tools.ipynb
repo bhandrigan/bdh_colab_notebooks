{
 "cells": [
  {
   "cell_type": "markdown",
   "metadata": {
    "colab_type": "text",
    "id": "view-in-github"
   },
   "source": [
    "<a href=\"https://colab.research.google.com/github/bhandrigan/bdh_colab_notebooks/blob/main/n90_seo_power_tools.ipynb\" target=\"_parent\"><img src=\"https://colab.research.google.com/assets/colab-badge.svg\" alt=\"Open In Colab\"/></a>"
   ]
  },
  {
   "cell_type": "code",
   "execution_count": null,
   "metadata": {
    "id": "AWRcA1AMm1Dg"
   },
   "outputs": [],
   "source": [
    "!python3 -m pip install advertools"
   ]
  },
  {
   "cell_type": "code",
   "execution_count": null,
   "metadata": {
    "id": "fx2iLCsDo0wP"
   },
   "outputs": [],
   "source": [
    "# Setup your target website vars\n",
    "website = 'https://www.precisionairandplumbing.com'\n",
    "robots_url = website + '/robots.txt'\n",
    "sitemap_url = website + '/sitemap_index.xml'"
   ]
  },
  {
   "cell_type": "code",
   "execution_count": null,
   "metadata": {
    "colab": {
     "base_uri": "https://localhost:8080/",
     "height": 192
    },
    "id": "abrjJwabm4Yb",
    "outputId": "0924eff4-9837-4828-c7e1-c1cd3dd75117"
   },
   "outputs": [],
   "source": [
    "import advertools as adv\n",
    "\n",
    "robots_df = adv.robotstxt_to_df(f'{robots_url}')\n",
    "robots_df"
   ]
  },
  {
   "cell_type": "code",
   "execution_count": null,
   "metadata": {
    "colab": {
     "base_uri": "https://localhost:8080/",
     "height": 432
    },
    "id": "89jl1IW8oMKo",
    "outputId": "33243647-da06-4121-bcf3-e34528d25d6b"
   },
   "outputs": [],
   "source": [
    "import advertools as adv\n",
    "\n",
    "sitemap_df = adv.sitemap_to_df(f'{sitemap_url}')\n",
    "print(len(sitemap_df))\n",
    "sitemap_df.head(10)"
   ]
  },
  {
   "cell_type": "code",
   "execution_count": null,
   "metadata": {
    "colab": {
     "base_uri": "https://localhost:8080/"
    },
    "id": "4LGaT5mPosIl",
    "outputId": "69995e09-df2c-40d0-d999-4095ec776c35"
   },
   "outputs": [],
   "source": [
    "print(sitemap_df.shape)\n",
    "print(sitemap_df.dtypes)"
   ]
  }
 ],
 "metadata": {
  "colab": {
   "authorship_tag": "ABX9TyPCKDj9hE11xv9uSvRvCsaO",
   "include_colab_link": true,
   "provenance": []
  },
  "kernelspec": {
   "display_name": "Python 3",
   "language": "python",
   "name": "python3"
  }
 },
 "nbformat": 4,
 "nbformat_minor": 0
}
