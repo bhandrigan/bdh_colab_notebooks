{
 "cells": [
  {
   "cell_type": "code",
   "execution_count": null,
   "metadata": {},
   "outputs": [],
   "source": [
    "\n",
    "import importlib\n",
    "import functions.core.core_functions as core_functions\n",
    "import dask\n",
    "import dask.dataframe as dd\n",
    "from dask.dataframe.utils import assert_eq\n",
    "import pandas as pd\n",
    "import numpy as np\n",
    "import pandas_gbq\n",
    "import json\n",
    "import gc\n",
    "import cudf\n",
    "import yaml\n",
    "\n",
    "dask.config.set({\"dataframe.backend\": \"cudf\"})\n",
    "\n",
    "importlib.reload(core_functions)\n",
    "\n",
    "resp = {}\n",
    "resp = core_functions.initialize_clients()\n",
    "\n",
    "config = resp.get('config')\n",
    "bigquery_client = resp.get('clients').get('bigquery_client')\n",
    "storage_client = resp.get('clients').get('storage_client')\n",
    "sf_client = resp.get('clients').get('sf_client')\n",
    "veil_billing = resp.get('config').get('veil_billing')\n",
    "veil_vars = resp.get('config').get('veil_billing').get('vars')\n",
    "# print(veil_billing)\n",
    "sfdc_adv_account_cols = veil_billing.get('vars').get('sfdc_adv_account_cols')\n",
    "sfdc_rate_card_cols = veil_billing.get('vars').get('sfdc_rate_card_cols')\n",
    "\n",
    "table_schema = yaml.safe_load(open('table-schemas.yaml'))\n",
    "\n",
    "encodings_python = table_schema['encodings_python_schema']\n",
    "encodings_parquet = table_schema['encodings_parquet_schema']\n",
    "\n"
   ]
  },
  {
   "cell_type": "code",
   "execution_count": null,
   "metadata": {},
   "outputs": [],
   "source": []
  },
  {
   "cell_type": "code",
   "execution_count": null,
   "metadata": {},
   "outputs": [],
   "source": [
    "# Set Billing Process Vars\n",
    "broadcast_month_to_process = 2024.11\n",
    "encoding_month_to_process = '2024-11-01'"
   ]
  },
  {
   "cell_type": "code",
   "execution_count": null,
   "metadata": {},
   "outputs": [],
   "source": [
    "detections_for_billing_sql = f\"\"\"\n",
    "SELECT occurrence_id, encoding_id, detection_timestamp, broadcaster_id, origin, group_occurrence_id, affiliate, callsign, dma_rank, show_record_id, show_id, is_barter, is_cable, is_network, is_spot, is_canadian, is_hispanic, is_local_cable, is_active, show_name, isci, aeis_id, format_id, format_name, customer_id, customer_name, sfdc_account_id, sfdc_account_name, sfdc_advertiser_id, attributes_cable_estimate, attributes_spot_estimate, length_in_seconds, clone_of, segments_format_id_group, bcw_id, bcw_index, bcm_index, bcw_start_date, bcw_end_date, bc_year_index, segments_date, segments_day_of_week, segments_media, segments_broadcast_week_index, segments_broadcast_month_index, segments_broadcast_year \n",
    "FROM `adhoc-billing.avs_billing_datalake.p_detections` \n",
    "WHERE segments_broadcast_month_index = {broadcast_month_to_process}\n",
    "\"\"\"\n",
    "\n",
    "detections_for_billing_df = bigquery_client.query(detections_for_billing_sql).result().to_dataframe()\n",
    "encodings_in_detections = detections_for_billing_df['encoding_id'].unique().tolist()"
   ]
  },
  {
   "cell_type": "code",
   "execution_count": null,
   "metadata": {},
   "outputs": [],
   "source": []
  },
  {
   "cell_type": "code",
   "execution_count": null,
   "metadata": {},
   "outputs": [],
   "source": []
  },
  {
   "cell_type": "code",
   "execution_count": null,
   "metadata": {},
   "outputs": [],
   "source": [
    "encodings_for_billing_sql = f\"\"\"\n",
    "    SELECT encoding_id, format_id, encoder_group_id, encoded_timestamp, encoder_id, length_in_seconds, e.description, product_code, product_name, isci, project_name, advertiser, client_code, encoder_group_name, aeis_id, format_name, e.sfdc_account_id, sfdc_account_name, customer_id, account_id, customer_name, profile_name, ad_prod_campaign, campaign, sfdc_advertiser_id, \n",
    "    billing_frequency, po_number, po_required, active_po, advertiser_status, invoice_format, sfdc_rate_card_id, match_type, product_code_list, dish_included, directv_included,\n",
    "    sfdc_rate_card_name, business_type, rate_card_type, currency, billing_type, rc.description as rate_card_desc, media, default_rate_card, media_ocean_formatting, sfdc_product_id, sfdc_product_code, rate_card_diginet_handling, no_spot_ordered, rate_currency, seasonal_only, min_max_type, min_value, min_label, min_applied_at, always_bill_min, usage_incl_in_min, max_value, max_label, max_applied_at, usage_incl_in_max, usage_usage_per_unit_rate, usage_usage_per_unit_label, usage_usage_billing_unit, usage_tier_plat_detection_num_tiers, usage_tier_plat_detection_billing_unit, usage_tier1_from, usage_tier1_price, usage_tier1_label, usage_tier2_from, usage_tier2_price, usage_tier2_label, usage_tier3_from, usage_tier3_price, usage_tier3_label, usage_tier4_from, usage_tier4_price, usage_tier4_label, usage_tier5_from, usage_tier5_price, usage_tier5_label, weekly_cable_rate, weekly_spot_rate, weekly_canadian_rate, weekly_network_rate, weekly_hispanic_rate, segments_month\n",
    "\n",
    "\n",
    "    FROM `adhoc-billing.avs_billing_datalake.p_encodings` e \n",
    "    left join `adhoc-billing.avs_billing_process.sfdc_advertiser` adv\n",
    "    using(sfdc_advertiser_id)\n",
    "    left join `adhoc-billing.avs_billing_process.sfdc_rate_card` rc\n",
    "    using (sfdc_rate_card_id)\n",
    "\"\"\"\n",
    "encodings_for_billing_df = bigquery_client.query(encodings_for_billing_sql).result().to_dataframe()\n",
    "\n",
    "\n"
   ]
  },
  {
   "cell_type": "code",
   "execution_count": null,
   "metadata": {},
   "outputs": [],
   "source": [
    "encodings_for_encoder_billing = encodings_for_billing_df.loc[encodings_for_billing_df['segments_month'] == encoding_month_to_process].copy().reset_index(drop=True)\n",
    "encodings_for_encoder_billing"
   ]
  },
  {
   "cell_type": "code",
   "execution_count": null,
   "metadata": {},
   "outputs": [],
   "source": [
    "encodings_for_detection_billing = encodings_for_billing_df.loc[encodings_for_billing_df['encoding_id'].isin(encodings_in_detections)].copy().reset_index(drop=True)\n",
    "ad_hoc_billing_master = detections_for_billing_df.merge(encodings_for_detection_billing, on='encoding_id', how='left', suffixes=('', '_dupe')).copy().reset_index(drop=True)\n",
    "ad_hoc_billing_master = ad_hoc_billing_master.drop(columns=[col for col in ad_hoc_billing_master.columns if '_dupe' in col]).sort_values(by=['sfdc_account_id', 'sfdc_advertiser_id', 'occurrence_id'], ascending=True).copy().reset_index(drop=True)\n",
    "record_last_updated = pd.Timestamp.utcnow().floor('s')\n",
    "ad_hoc_billing_master['_BROADCAST_MONTH'] = broadcast_month_to_process\n",
    "ad_hoc_billing_master['record_last_updated'] = record_last_updated\n",
    "record_last_audit_id = core_functions.generate_uuid()\n",
    "ad_hoc_billing_master['record_last_audit_id'] = record_last_audit_id\n",
    "ad_hoc_billing_master"
   ]
  },
  {
   "cell_type": "code",
   "execution_count": null,
   "metadata": {},
   "outputs": [],
   "source": []
  },
  {
   "cell_type": "code",
   "execution_count": null,
   "metadata": {},
   "outputs": [],
   "source": [
    "for col in ad_hoc_billing_master.columns:\n",
    "    print(f'col: {col} - datatype: {ad_hoc_billing_master[col].dtype} sample: {ad_hoc_billing_master[col][0]}')\n"
   ]
  },
  {
   "cell_type": "code",
   "execution_count": null,
   "metadata": {},
   "outputs": [],
   "source": [
    "veil_storage_options = config.get('VEIL_GCS_STORAGE_OPTIONS')\n",
    "veil_billing_bucket = config.get('veil_billing').get('billing_gcs_bucket_id')\n",
    "veil_output_prefix = 'ad_hoc_billing_master'\n",
    "partition_cols = ['_BROADCAST_MONTH']\n",
    "\n"
   ]
  },
  {
   "cell_type": "code",
   "execution_count": null,
   "metadata": {},
   "outputs": [],
   "source": [
    "\n",
    "core_functions.write_hive_partitioned_parquet(ad_hoc_billing_master, veil_billing_bucket, veil_output_prefix, partition_cols, veil_storage_options, max_records_per_file=10_000_000)\n"
   ]
  },
  {
   "cell_type": "code",
   "execution_count": null,
   "metadata": {},
   "outputs": [],
   "source": [
    "\n",
    "print(f\"Finished writing to {veil_billing_bucket}/{veil_output_prefix}\")"
   ]
  },
  {
   "cell_type": "code",
   "execution_count": null,
   "metadata": {},
   "outputs": [],
   "source": [
    "ad_hoc_billing_master"
   ]
  }
 ],
 "metadata": {
  "kernelspec": {
   "display_name": ".venv",
   "language": "python",
   "name": "python3"
  },
  "language_info": {
   "codemirror_mode": {
    "name": "ipython",
    "version": 3
   },
   "file_extension": ".py",
   "mimetype": "text/x-python",
   "name": "python",
   "nbconvert_exporter": "python",
   "pygments_lexer": "ipython3",
   "version": "3.10.12"
  }
 },
 "nbformat": 4,
 "nbformat_minor": 2
}
