{
 "cells": [
  {
   "cell_type": "code",
   "execution_count": null,
   "metadata": {},
   "outputs": [],
   "source": [
    "import importlib\n",
    "import functions.core_functions as core_functions\n",
    "import dask\n",
    "import dask.dataframe as dd\n",
    "from dask.dataframe.utils import assert_eq\n",
    "import pandas as pd\n",
    "import numpy as np\n",
    "import pandas_gbq\n",
    "import json\n",
    "import gc\n",
    "import cudf\n",
    "import os\n",
    "from datetime import datetime, timedelta\n",
    "\n",
    "dask.config.set({\"dataframe.backend\": \"cudf\"})\n",
    "\n",
    "importlib.reload(core_functions)"
   ]
  },
  {
   "cell_type": "code",
   "execution_count": null,
   "metadata": {},
   "outputs": [],
   "source": [
    "init = {}\n",
    "init = core_functions.initialize_clients(service_account_secret_name='SA_N90_CORE_APPS')\n",
    "init_2 = core_functions.initialize_clients(service_account_secret_name='SA_ADHOC_BILLING')\n",
    "\n",
    "config = init.get('config')\n",
    "os.environ['GOOGLE_APPLICATION_CREDENTIALS'] = config.get('SA_N90_CORE_APPS')\n",
    "bigquery_client = init.get('clients').get('bigquery_client')\n",
    "storage_client = init.get('clients').get('storage_client')\n",
    "os.environ['GOOGLE_APPLICATION_CREDENTIALS'] = config.get('SA_ADHOC_BILLING')\n",
    "bigquery_client_2 = init_2.get('clients').get('bigquery_client')"
   ]
  },
  {
   "cell_type": "code",
   "execution_count": null,
   "metadata": {},
   "outputs": [],
   "source": [
    "init.get('clients')\n"
   ]
  },
  {
   "cell_type": "code",
   "execution_count": null,
   "metadata": {},
   "outputs": [],
   "source": [
    "os.environ['GOOGLE_APPLICATION_CREDENTIALS'] = config.get('SA_ADHOC_BILLING')\n",
    "broadcast_cal_sql = f\"\"\"\n",
    "    SELECT id as bcw_id, bcw_index, bcm_index, bcw_start_date, bcw_end_date FROM `adhoc-billing.avs_billing_process.lu_broadcast_week`\n",
    "\"\"\"\n",
    "broadcast_cal_df = core_functions.fetch_gbq_data(query=broadcast_cal_sql, bigquery_client=bigquery_client_2)"
   ]
  },
  {
   "cell_type": "code",
   "execution_count": null,
   "metadata": {},
   "outputs": [],
   "source": [
    "os.environ['GOOGLE_APPLICATION_CREDENTIALS'] = config.get('SA_N90_CORE_APPS')\n",
    "geo_sql = f\"\"\"\n",
    "    SELECT * from `next90-core-applications.next90_analytics.geos` WHERE geo_type = 'dma'\n",
    "\"\"\"\n",
    "geo_df = core_functions.fix_df_dtypes(core_functions.fetch_gbq_data(query=geo_sql, bigquery_client=bigquery_client))\n",
    "\n",
    "int_cols = ['geo_location', 'geo_neustar_id','geo_us_msa_id', 'geo_us_county_fips_id','geo_ca_cma_id']\n",
    "for col in int_cols:\n",
    "    geo_df[col] = geo_df[col].fillna(-1).astype('Int64')"
   ]
  },
  {
   "cell_type": "code",
   "execution_count": null,
   "metadata": {},
   "outputs": [],
   "source": [
    "min_date = '2024-08-01'\n",
    "max_date = '2025-01-01'\n",
    "process_month_groups = []\n",
    "process_month_group = '2024-09'"
   ]
  },
  {
   "cell_type": "code",
   "execution_count": null,
   "metadata": {},
   "outputs": [],
   "source": [
    "session_sql = f\"\"\"\n",
    "select *, EXTRACT(YEAR FROM created_time) AS year, EXTRACT(MONTH FROM created_time) as month, EXTRACT(DAY FROM created_time) as day,\n",
    "        CONCAT(EXTRACT(YEAR FROM created_time),'-',FORMAT('%02d', EXTRACT(MONTH FROM created_time))) as process_month_group,\n",
    "        -- Calculate week_within_month\n",
    "        CAST((EXTRACT(DAY FROM created_time) - 1) / 7 + 1 AS INT64) AS week_within_month \n",
    "from `next90-core-applications.n90_data_lake.activity_sessions`\n",
    "WHERE created_time >= '{min_date}' AND created_time < '{max_date}'\n",
    "        AND CONCAT(EXTRACT(YEAR FROM created_time),'-',FORMAT('%02d', EXTRACT(MONTH FROM created_time))) = '{process_month_group}'\n",
    "\"\"\"\n",
    "\n",
    "session_df = core_functions.fetch_gbq_data(session_sql,bigquery_client)"
   ]
  },
  {
   "cell_type": "code",
   "execution_count": null,
   "metadata": {},
   "outputs": [],
   "source": [
    "# del session_df\n",
    "# gc.collect()"
   ]
  },
  {
   "cell_type": "code",
   "execution_count": null,
   "metadata": {},
   "outputs": [],
   "source": [
    "session_df"
   ]
  },
  {
   "cell_type": "code",
   "execution_count": null,
   "metadata": {},
   "outputs": [],
   "source": [
    "for col in session_df.columns:\n",
    "    print(f'col {col} has dtype {session_df[col].dtype}, sample value {session_df[col].iloc[0]}')"
   ]
  },
  {
   "cell_type": "code",
   "execution_count": null,
   "metadata": {},
   "outputs": [],
   "source": [
    "session_df['lat'] = session_df['lat'].astype('Float64')\n",
    "session_df['lon'] = session_df['lat'].astype('Float64')\n",
    "session_df\n",
    "core_functions.print_dataframe_python_schema(session_df, 'activity_sessions')"
   ]
  }
 ],
 "metadata": {
  "kernelspec": {
   "display_name": ".venv",
   "language": "python",
   "name": "python3"
  },
  "language_info": {
   "codemirror_mode": {
    "name": "ipython",
    "version": 3
   },
   "file_extension": ".py",
   "mimetype": "text/x-python",
   "name": "python",
   "nbconvert_exporter": "python",
   "pygments_lexer": "ipython3",
   "version": "3.10.12"
  }
 },
 "nbformat": 4,
 "nbformat_minor": 2
}
