{
 "cells": [
  {
   "cell_type": "code",
   "execution_count": null,
   "metadata": {},
   "outputs": [],
   "source": [
    "%pip install -q -r requirements.txt"
   ]
  },
  {
   "cell_type": "code",
   "execution_count": null,
   "metadata": {},
   "outputs": [],
   "source": [
    "import importlib\n",
    "import functions.core_functions as core_functions\n",
    "import dask\n",
    "import dask.dataframe as dd\n",
    "from dask.dataframe.utils import assert_eq\n",
    "import pandas as pd\n",
    "import numpy as np\n",
    "import pandas_gbq\n",
    "import json\n",
    "import gc\n",
    "import cudf\n",
    "import os\n",
    "from datetime import datetime, timedelta\n",
    "\n",
    "dask.config.set({\"dataframe.backend\": \"cudf\"})\n",
    "\n",
    "importlib.reload(core_functions)"
   ]
  },
  {
   "cell_type": "code",
   "execution_count": null,
   "metadata": {},
   "outputs": [],
   "source": [
    "resp = {}\n",
    "resp = core_functions.initialize_clients(service_account_secret_name='SA_N90_CORE_APPS')\n",
    "\n",
    "config = resp.get('config')\n",
    "os.environ['GOOGLE_APPLICATION_CREDENTIALS'] = config.get('SA_N90_CORE_APPS')\n",
    "bigquery_client = resp.get('clients').get('bigquery_client')\n",
    "storage_client = resp.get('clients').get('storage_client')"
   ]
  },
  {
   "cell_type": "code",
   "execution_count": null,
   "metadata": {},
   "outputs": [],
   "source": [
    "gclid_sql = f\"\"\"\n",
    "  CREATE TEMP TABLE sessionGclids AS (\n",
    "    SELECT \n",
    "        gclid,\n",
    "        MIN(created_time) AS created_time,\n",
    "        DATE(MIN(created_time)) AS date,\n",
    "        EXTRACT(YEAR FROM MIN(created_time)) AS year,\n",
    "        EXTRACT(MONTH FROM MIN(created_time)) AS month,\n",
    "        EXTRACT(DAY FROM MIN(created_time)) AS day\n",
    "    FROM `next90-core-applications.omniData.activity_sessions`\n",
    "    WHERE gclid IS NOT NULL \n",
    "    GROUP BY gclid\n",
    "    ORDER BY created_time\n",
    "  );\n",
    "SELECT * FROM `next90-core-applications.next90_google_ads_transfer_new.ads_ClickStats_8417741864`\n",
    "join sessionGclids\n",
    "on gclid = click_view_gclid\n",
    "AND (date = segments_date or date = DATE_ADD(segments_date, INTERVAL 1 DAY))\n",
    "\"\"\"\n",
    "\n",
    "gclid_base_df = core_functions.fetch_gbq_data(gclid_sql, bigquery_client=bigquery_client)\n",
    "gclid_base_df_working = gclid_base_df.copy()"
   ]
  },
  {
   "cell_type": "code",
   "execution_count": null,
   "metadata": {},
   "outputs": [],
   "source": [
    "gclid_base_df_working.head()"
   ]
  },
  {
   "cell_type": "code",
   "execution_count": null,
   "metadata": {},
   "outputs": [],
   "source": [
    "core_functions.show_more_dataframe()\n",
    "gclid_base_df_working['kw_criteria_id'] = gclid_base_df_working['click_view_keyword'].str.split('~').str[1]\n",
    "gclid_base_df_working['ad_id'] = gclid_base_df_working['click_view_ad_group_ad'].str.split('~').str[1]\n",
    "gclid_base_df_working['click_city_presence_location'] = gclid_base_df_working['click_view_location_of_presence_city'].str.split('/').str[1]\n",
    "gclid_base_df_working['click_metro_presence_location'] = gclid_base_df_working['click_view_location_of_presence_metro'].str.split('/').str[1]\n",
    "gclid_base_df_working['click_most_specific_presence_location'] = gclid_base_df_working['click_view_location_of_presence_most_specific'].str.split('/').str[1]\n",
    "gclid_base_df_working['view_timestamp'] = gclid_base_df_working['created_time'] - timedelta(seconds=1)\n",
    "gclid_base_df_working.loc[~gclid_base_df['click_view_keyword'].isna()].head(20)"
   ]
  },
  {
   "cell_type": "code",
   "execution_count": null,
   "metadata": {},
   "outputs": [],
   "source": [
    "gclid_base_df_working.loc[~gclid_base_df['click_view_keyword'].isna()].head(10)\n",
    "customer_ids = gclid_base_df_working['customer_id'].unique()\n",
    "min_date = gclid_base_df_working['date'].min()\n",
    "min_date\n"
   ]
  },
  {
   "cell_type": "code",
   "execution_count": null,
   "metadata": {},
   "outputs": [],
   "source": [
    "gclid_base_df_working.head(3)"
   ]
  },
  {
   "cell_type": "code",
   "execution_count": null,
   "metadata": {},
   "outputs": [],
   "source": [
    "kw_stats_sql = f\"\"\"\n",
    "SELECT * FROM `next90-core-applications.next90_google_ads_transfer_new.ads_KeywordStats_8417741864` \n",
    "WHERE segments_date >= '{min_date}'\n",
    "AND customer_id IN ({','.join([str(x) for x in customer_ids])})\n",
    "\"\"\"\n",
    "\n",
    "kw_stats_df = core_functions.fetch_gbq_data(kw_stats_sql, bigquery_client=bigquery_client)\n",
    "kw_stats_df.head(3)\n"
   ]
  },
  {
   "cell_type": "code",
   "execution_count": null,
   "metadata": {},
   "outputs": [],
   "source": [
    "kw_stats_df['ad_group_criterion_criterion_id'] = kw_stats_df['ad_group_criterion_criterion_id'].astype(str)"
   ]
  },
  {
   "cell_type": "code",
   "execution_count": null,
   "metadata": {},
   "outputs": [],
   "source": [
    "gclid_base_df_working2 = gclid_base_df_working.merge(kw_stats_df, how='left', left_on=['customer_id', 'kw_criteria_id', 'segments_date', 'segments_click_type','segments_ad_network_type','segments_device'], right_on=['customer_id', 'ad_group_criterion_criterion_id', 'segments_date','segments_click_type','segments_ad_network_type','segments_device'], suffixes=('', '_kw_stats'))"
   ]
  },
  {
   "cell_type": "code",
   "execution_count": null,
   "metadata": {},
   "outputs": [],
   "source": [
    "gclid_base_df_working2.loc[~gclid_base_df_working2['metrics_average_cpc'].isna()].head()"
   ]
  }
 ],
 "metadata": {
  "kernelspec": {
   "display_name": ".venv",
   "language": "python",
   "name": "python3"
  },
  "language_info": {
   "codemirror_mode": {
    "name": "ipython",
    "version": 3
   },
   "file_extension": ".py",
   "mimetype": "text/x-python",
   "name": "python",
   "nbconvert_exporter": "python",
   "pygments_lexer": "ipython3",
   "version": "3.10.12"
  }
 },
 "nbformat": 4,
 "nbformat_minor": 2
}
