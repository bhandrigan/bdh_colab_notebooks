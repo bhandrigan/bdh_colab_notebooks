{
 "cells": [
  {
   "cell_type": "code",
   "execution_count": null,
   "metadata": {},
   "outputs": [],
   "source": [
    "%pip install -q -r requirements.txt"
   ]
  },
  {
   "cell_type": "code",
   "execution_count": null,
   "metadata": {},
   "outputs": [],
   "source": [
    "import importlib\n",
    "import functions.core.core_functions as core_functions\n",
    "import dask\n",
    "import dask.dataframe as dd\n",
    "from dask.dataframe.utils import assert_eq\n",
    "import pandas as pd\n",
    "import numpy as np\n",
    "import pandas_gbq\n",
    "import json\n",
    "import gc\n",
    "import cudf\n",
    "import os\n",
    "from datetime import datetime, timedelta\n",
    "\n",
    "dask.config.set({\"dataframe.backend\": \"cudf\"})\n",
    "\n",
    "importlib.reload(core_functions)"
   ]
  },
  {
   "cell_type": "code",
   "execution_count": null,
   "metadata": {},
   "outputs": [],
   "source": [
    "init = {}\n",
    "init = core_functions.initialize_clients(service_account_secret_name='SA_N90_CORE_APPS')\n",
    "\n",
    "config = init.get('config')\n",
    "os.environ['GOOGLE_APPLICATION_CREDENTIALS'] = config.get('SA_N90_CORE_APPS')\n",
    "bigquery_client = init.get('clients').get('bigquery_client')\n",
    "storage_client = init.get('clients').get('storage_client')"
   ]
  },
  {
   "cell_type": "code",
   "execution_count": null,
   "metadata": {},
   "outputs": [],
   "source": [
    "client_gads_accounts = f\"\"\"\n",
    "select distinct system_account_id from `next90-core-applications.next90_analytics.client_systems` \n",
    "where system_platform = 'GoogleAds'\n",
    "\"\"\"\n",
    "gads_ids = list(core_functions.fetch_gbq_data(client_gads_accounts, bigquery_client).values.flatten().astype(int))\n",
    "gads_ids\n"
   ]
  },
  {
   "cell_type": "code",
   "execution_count": null,
   "metadata": {},
   "outputs": [],
   "source": [
    "gclid_sql = f\"\"\"\n",
    "  CREATE TEMP TABLE sessionGclids AS (\n",
    "    with gclidBase AS (\n",
    "select gclid as click_gclid, min(created_time) as click_timestamp from `next90-core-applications.omniData.activity_sessions` \n",
    "where gclid is not null\n",
    "group by gclid\n",
    ")\n",
    "select click_gclid, click_timestamp, id as click_session_id,\n",
    "        DATE(click_timestamp) AS click_date\n",
    "from gclidBase\n",
    "join `next90-core-applications.omniData.activity_sessions` \n",
    "on click_gclid = gclid\n",
    "and click_timestamp = created_time\n",
    "order by click_timestamp\n",
    "  );\n",
    "SELECT * FROM `next90-core-applications.next90_google_ads_transfer_new.ads_ClickStats_8417741864`\n",
    "left join sessionGclids\n",
    "on click_gclid = click_view_gclid\n",
    "AND (click_date = segments_date or click_date = DATE_ADD(segments_date, INTERVAL 1 DAY))\n",
    "WHERE customer_id in ({','.join([str(x) for x in gads_ids])})\n",
    "\"\"\"\n",
    "\n",
    "gclid_base_df = core_functions.fetch_gbq_data(gclid_sql, bigquery_client=bigquery_client)\n",
    "gclid_base_df_working = gclid_base_df.copy()"
   ]
  },
  {
   "cell_type": "code",
   "execution_count": null,
   "metadata": {},
   "outputs": [],
   "source": [
    "# gclid_base_df_working = gclid_base_df.copy()\n"
   ]
  },
  {
   "cell_type": "code",
   "execution_count": null,
   "metadata": {},
   "outputs": [],
   "source": [
    "gclid_base_df_working['date'] = gclid_base_df_working['segments_date']\n",
    "gclid_base_df_working = core_functions.extract_year_month_day(gclid_base_df_working, 'date')"
   ]
  },
  {
   "cell_type": "code",
   "execution_count": null,
   "metadata": {},
   "outputs": [],
   "source": [
    "call_rail_sql = f\"\"\"\n",
    "SELECT * FROM `next90-core-applications.next90_analytics.callRailCalls`\n",
    "\"\"\"\n",
    "\n",
    "call_rail_base_df = core_functions.fetch_gbq_data(call_rail_sql, bigquery_client=bigquery_client)"
   ]
  },
  {
   "cell_type": "code",
   "execution_count": null,
   "metadata": {},
   "outputs": [],
   "source": [
    "call_rail_base_df['call_rail_id'] = call_rail_base_df['id']\n"
   ]
  },
  {
   "cell_type": "code",
   "execution_count": null,
   "metadata": {},
   "outputs": [],
   "source": [
    "call_rail_base_df['call_gclid'] = call_rail_base_df['gclid']\n",
    "call_rail_base_df['call_timestamp'] = call_rail_base_df['start_time_utc']\n",
    "call_rail_base_df['call_session_id'] = call_rail_base_df['id']"
   ]
  },
  {
   "cell_type": "code",
   "execution_count": null,
   "metadata": {},
   "outputs": [],
   "source": [
    "call_rail_base_df"
   ]
  },
  {
   "cell_type": "code",
   "execution_count": null,
   "metadata": {},
   "outputs": [],
   "source": [
    "call_rail_gclid_times_df = call_rail_base_df.loc[(call_rail_base_df['gclid'].notnull()) & (call_rail_base_df['gclid'] != 'None'),['call_gclid','call_timestamp','call_session_id']]"
   ]
  },
  {
   "cell_type": "code",
   "execution_count": null,
   "metadata": {},
   "outputs": [],
   "source": [
    "call_rail_gclid_times_df.sort_values('call_timestamp', ascending=False, inplace=True)\n",
    "call_rail_gclid_times_df.drop_duplicates('call_gclid', keep='first', inplace=True)"
   ]
  },
  {
   "cell_type": "code",
   "execution_count": null,
   "metadata": {},
   "outputs": [],
   "source": []
  },
  {
   "cell_type": "code",
   "execution_count": null,
   "metadata": {},
   "outputs": [],
   "source": [
    "gclid_base_df_working = gclid_base_df_working.merge(call_rail_gclid_times_df, how='left', left_on='click_view_gclid', right_on='call_gclid', suffixes=('_click', '_call'))\n"
   ]
  },
  {
   "cell_type": "code",
   "execution_count": null,
   "metadata": {},
   "outputs": [],
   "source": [
    "gclid_base_df_working.loc[(gclid_base_df_working['call_timestamp'].notnull()) & (gclid_base_df_working['click_timestamp'].isna())]"
   ]
  },
  {
   "cell_type": "code",
   "execution_count": null,
   "metadata": {},
   "outputs": [],
   "source": [
    "core_functions.show_more_dataframe()\n",
    "gclid_base_df_working['kw_criteria_id'] = gclid_base_df_working['click_view_keyword'].str.split('~').str[1]\n",
    "gclid_base_df_working['ad_id'] = gclid_base_df_working['click_view_ad_group_ad'].str.split('~').str[1]\n",
    "gclid_base_df_working['click_city_presence_location'] = gclid_base_df_working['click_view_location_of_presence_city'].str.split('/').str[1]\n",
    "gclid_base_df_working['click_metro_presence_location'] = gclid_base_df_working['click_view_location_of_presence_metro'].str.split('/').str[1]\n",
    "gclid_base_df_working['click_most_specific_presence_location'] = gclid_base_df_working['click_view_location_of_presence_most_specific'].str.split('/').str[1]\n",
    "gclid_base_df_working['view_timestamp'] = (gclid_base_df_working['click_timestamp'] - timedelta(seconds=1)).fillna(gclid_base_df_working['call_timestamp'] - timedelta(seconds=1))\n",
    "gclid_base_df_working.loc[~gclid_base_df['click_view_keyword'].isna()].head()"
   ]
  },
  {
   "cell_type": "code",
   "execution_count": null,
   "metadata": {},
   "outputs": [],
   "source": [
    "gclid_base_df_working.loc[gclid_base_df_working['view_timestamp'].notnull()]"
   ]
  },
  {
   "cell_type": "code",
   "execution_count": null,
   "metadata": {},
   "outputs": [],
   "source": [
    "gclid_base_df_working.loc[~gclid_base_df['click_view_keyword'].isna()].head()\n",
    "min_date = gclid_base_df_working['date'].min().date()\n",
    "min_date\n"
   ]
  },
  {
   "cell_type": "code",
   "execution_count": null,
   "metadata": {},
   "outputs": [],
   "source": [
    "gclid_base_df_working.head(3)"
   ]
  },
  {
   "cell_type": "code",
   "execution_count": null,
   "metadata": {},
   "outputs": [],
   "source": [
    "kw_stats_sql = f\"\"\"\n",
    "SELECT * FROM `next90-core-applications.next90_google_ads_transfer_new.ads_KeywordStats_8417741864` \n",
    "WHERE segments_date >= '{min_date}'\n",
    "AND customer_id IN ({','.join([str(x) for x in gads_ids])})\n",
    "\"\"\"\n",
    "\n",
    "kw_stats_df = core_functions.fetch_gbq_data(kw_stats_sql, bigquery_client=bigquery_client)\n",
    "kw_stats_df.head(3)\n"
   ]
  },
  {
   "cell_type": "code",
   "execution_count": null,
   "metadata": {},
   "outputs": [],
   "source": [
    "kw_stats_df['ad_group_criterion_criterion_id'] = kw_stats_df['ad_group_criterion_criterion_id'].astype(str)"
   ]
  },
  {
   "cell_type": "code",
   "execution_count": null,
   "metadata": {},
   "outputs": [],
   "source": [
    "for col in gclid_base_df_working.columns:\n",
    "    if col in kw_stats_df.columns:\n",
    "        print(col)"
   ]
  },
  {
   "cell_type": "code",
   "execution_count": null,
   "metadata": {},
   "outputs": [],
   "source": [
    "gclid_merge_fields = ['kw_criteria_id', 'ad_group_id', 'campaign_id', 'customer_id', 'segments_date', 'segments_ad_network_type', 'segments_click_type', 'segments_device']\n",
    "kw_stats_merge_fields = ['ad_group_criterion_criterion_id', 'ad_group_id', 'campaign_id', 'customer_id', 'segments_date', 'segments_ad_network_type', 'segments_click_type', 'segments_device']"
   ]
  },
  {
   "cell_type": "code",
   "execution_count": null,
   "metadata": {},
   "outputs": [],
   "source": [
    "gclid_base_df_working2 = gclid_base_df_working.merge(kw_stats_df, how='left', left_on=gclid_merge_fields, right_on=kw_stats_merge_fields, suffixes=('', '_kw_stats'))"
   ]
  },
  {
   "cell_type": "code",
   "execution_count": null,
   "metadata": {},
   "outputs": [],
   "source": [
    "gclid_base_df_working2.loc[~gclid_base_df_working2['metrics_average_cpc'].isna()].head()"
   ]
  },
  {
   "cell_type": "code",
   "execution_count": null,
   "metadata": {},
   "outputs": [],
   "source": [
    "search_query_stats_sql = f\"\"\"\n",
    "SELECT * FROM `next90-core-applications.next90_google_ads_transfer_new.ads_SearchQueryStats_8417741864` \n",
    "WHERE segments_date >= '{min_date}'\n",
    "AND customer_id IN ({','.join([str(x) for x in gads_ids])})\n",
    "\"\"\"\n",
    "\n",
    "search_query_stats_df = core_functions.fetch_gbq_data(search_query_stats_sql, bigquery_client=bigquery_client)\n",
    "search_query_stats_df.head(3)"
   ]
  },
  {
   "cell_type": "code",
   "execution_count": null,
   "metadata": {},
   "outputs": [],
   "source": [
    "search_query_stats_df['kw_criteria_id'] = search_query_stats_df['segments_keyword_ad_group_criterion'].str.split('~').str[1]"
   ]
  },
  {
   "cell_type": "code",
   "execution_count": null,
   "metadata": {},
   "outputs": [],
   "source": [
    "search_query_stats_df.head(3)"
   ]
  },
  {
   "cell_type": "code",
   "execution_count": null,
   "metadata": {},
   "outputs": [],
   "source": [
    "col_list = []\n",
    "for col in gclid_base_df_working2.columns:\n",
    "    if col in search_query_stats_df.columns and 'metrics' not in col and not col.endswith('_DATE'):\n",
    "        print(col)\n",
    "        col_list.append(col)"
   ]
  },
  {
   "cell_type": "code",
   "execution_count": null,
   "metadata": {},
   "outputs": [],
   "source": [
    "gclid_base_df_working3 = gclid_base_df_working2.merge(search_query_stats_df, how='left', left_on=col_list, right_on=col_list, suffixes=('', '_search_query_stats'))"
   ]
  },
  {
   "cell_type": "code",
   "execution_count": null,
   "metadata": {},
   "outputs": [],
   "source": [
    "gclid_base_df_working3.sort_values(['view_timestamp', 'metrics_active_view_impressions','metrics_average_cpc','metrics_ctr','metrics_impressions_search_query_stats' ], ascending=False, inplace=True)"
   ]
  },
  {
   "cell_type": "code",
   "execution_count": null,
   "metadata": {},
   "outputs": [],
   "source": [
    "gclid_base_df_working3 = gclid_base_df_working3.drop_duplicates(subset=['click_view_gclid']).sort_values('view_timestamp', ascending=True)"
   ]
  },
  {
   "cell_type": "markdown",
   "metadata": {},
   "source": []
  },
  {
   "cell_type": "code",
   "execution_count": null,
   "metadata": {},
   "outputs": [],
   "source": [
    "# paid_organic_sql = f\"\"\"\n",
    "# SELECT * FROM `next90-core-applications.next90_google_ads_transfer_new.ads_PaidOrganicStats_8417741864` \n",
    "# WHERE segments_date >= '{min_date}'\n",
    "# AND customer_id IN ({','.join([str(x) for x in gads_ids])})\n",
    "# \"\"\"\n",
    "# paid_organic_df = core_functions.fetch_gbq_data(paid_organic_sql, bigquery_client=bigquery_client)"
   ]
  },
  {
   "cell_type": "code",
   "execution_count": null,
   "metadata": {},
   "outputs": [],
   "source": [
    "\n",
    "# for col in paid_organic_df.columns:\n",
    "#     if 'segments' in col.lower():\n",
    "#         print(col)"
   ]
  },
  {
   "cell_type": "code",
   "execution_count": null,
   "metadata": {},
   "outputs": [],
   "source": [
    "# paid_organic_df\n",
    "# ad_group_id , campaign_id , customer_id , paid_organic_search_term_view_search_term , segments_date "
   ]
  },
  {
   "cell_type": "code",
   "execution_count": null,
   "metadata": {},
   "outputs": [],
   "source": [
    "gclid_base_df_working3.loc[(gclid_base_df_working3['segments_click_type'] == 'CALLS') & (~gclid_base_df_working2['view_timestamp'].isna())]"
   ]
  },
  {
   "cell_type": "code",
   "execution_count": null,
   "metadata": {},
   "outputs": [],
   "source": [
    "\n",
    "# n90_storage_options = None\n",
    "n90_storage_options = config.get('N90_GCS_STORAGE_OPTIONS')\n",
    "\n",
    "# process_df['profile__attributes']\n",
    "n90_bucket = None\n",
    "n90_bucket = 'n90-data-lake'\n",
    "n90_output_prefix = None\n",
    "n90_output_prefix = 'analitics/google-ads-gclid-details'\n",
    "partition_cols = None\n",
    "partition_cols = ['year', 'month', 'day']"
   ]
  },
  {
   "cell_type": "code",
   "execution_count": null,
   "metadata": {},
   "outputs": [],
   "source": [
    "os.environ['GOOGLE_APPLICATION_CREDENTIALS'] = config.get('SA_N90_CORE_APPS')\n",
    "core_functions.write_hive_partitioned_parquet(gclid_base_df_working2, n90_bucket, n90_output_prefix, partition_cols, n90_storage_options)\n",
    "print(f\"Finished writing to {n90_bucket}/{n90_output_prefix}\")\n"
   ]
  },
  {
   "cell_type": "code",
   "execution_count": null,
   "metadata": {},
   "outputs": [],
   "source": [
    "sixty_sec_gclid_calls_sql = f\"\"\"\n",
    "select id from `next90-core-applications.next90_analytics.callRailCalls` where gclid is not null and gclid != 'None' and duration >= 60\n",
    "\"\"\"\n",
    "sixty_sec_gclid_calls_df = core_functions.fetch_gbq_data(sixty_sec_gclid_calls_sql, bigquery_client=bigquery_client)\n",
    "sixty_sec_call_ids = list(sixty_sec_gclid_calls_df['id'].values)"
   ]
  },
  {
   "cell_type": "code",
   "execution_count": null,
   "metadata": {},
   "outputs": [],
   "source": [
    "today = datetime.today()\n",
    "date_90_days_ago = (today - timedelta(days=90)).date()\n",
    "date_90_days_ago_str = date_90_days_ago.strftime('%Y-%m-%d')"
   ]
  },
  {
   "cell_type": "code",
   "execution_count": null,
   "metadata": {},
   "outputs": [],
   "source": [
    "date_90_days_ago"
   ]
  },
  {
   "cell_type": "code",
   "execution_count": null,
   "metadata": {},
   "outputs": [],
   "source": [
    "gclid_call_conv_df = gclid_base_df_working3.loc[gclid_base_df_working3['call_session_id'].isin(sixty_sec_call_ids)].copy()"
   ]
  },
  {
   "cell_type": "code",
   "execution_count": null,
   "metadata": {},
   "outputs": [],
   "source": [
    "def format_timestamp_no_subseconds(t):\n",
    "    if pd.isnull(t):\n",
    "        return ''\n",
    "    return t.strftime('%Y-%m-%d %H:%M:%S%z')[:-2] + ':' + t.strftime('%Y-%m-%d %H:%M:%S%z')[-2:]\n"
   ]
  },
  {
   "cell_type": "code",
   "execution_count": null,
   "metadata": {},
   "outputs": [],
   "source": [
    "# gclid_call_conv_df['call_timestamp'] = pd.to_datetime(gclid_call_conv_df['call_timestamp'], utc=True)\n",
    "gclid_call_conv_df['call_timestamp_prepped'] = gclid_call_conv_df['call_timestamp'].apply(\n",
    "    lambda x: x.isoformat(sep=' ') if pd.notnull(x) else ''\n",
    ")\n",
    "gclid_call_conv_df['call_timestamp_prepped'] = gclid_call_conv_df['call_timestamp'].apply(format_timestamp_no_subseconds)\n",
    "gclid_call_conv_df.loc[gclid_call_conv_df['segments_date'] > date_90_days_ago]\n",
    "gclid_call_conv_df['customer_id_str'] = gclid_call_conv_df['customer_id'].astype(str)\n",
    "upload_records = gclid_call_conv_df.loc[(gclid_call_conv_df['segments_date'] > date_90_days_ago) & (gclid_call_conv_df['customer_id'] == 6111416100),['click_view_gclid','customer_id_str','call_timestamp_prepped', 'call_session_id']][2:10].to_dict(orient='records')"
   ]
  },
  {
   "cell_type": "code",
   "execution_count": null,
   "metadata": {},
   "outputs": [],
   "source": [
    "upload_records"
   ]
  },
  {
   "cell_type": "code",
   "execution_count": null,
   "metadata": {},
   "outputs": [],
   "source": [
    "from google.ads.googleads.client import GoogleAdsClient\n",
    "from google.ads.googleads.errors import GoogleAdsException\n",
    "\n",
    "googleads_client = GoogleAdsClient.load_from_storage( )\n",
    "\n",
    "def get_customer_info(client, customer_id):\n",
    "    ga_service = client.get_service(\"GoogleAdsService\", version=\"v18\")\n",
    "    # query = \"SELECT campaign.name FROM campaign LIMIT 10\"\n",
    "    query = \"\"\"\n",
    "        SELECT\n",
    "          campaign.id,\n",
    "          campaign.name\n",
    "        FROM campaign\n",
    "        ORDER BY campaign.id\"\"\"\n",
    "    response = ga_service.search_stream(customer_id=customer_id, query=query)\n",
    "    # Access the iterator in the same scope as where the service object was created.\n",
    "    try:\n",
    "        for batch in response:\n",
    "            for row in batch.results:\n",
    "                print(\n",
    "                    f\"Campaign with ID {row.campaign.id} and name \"\n",
    "                    f'\"{row.campaign.name}\" was found.'\n",
    "                )\n",
    "    except GoogleAdsException as ex:\n",
    "        \n",
    "            \n",
    "# def get_customer_info(client, customer_id):\n",
    "#     ga_service = client.get_service(\"GoogleAdsService\")\n",
    "\n",
    "#     query = \"\"\"\n",
    "#         SELECT\n",
    "#           campaign.id,\n",
    "#           campaign.name\n",
    "#         FROM campaign\n",
    "#         ORDER BY campaign.id\"\"\"\n",
    "\n",
    "#     # Issues a search request using streaming.\n",
    "#     result = ga_service.search(customer_id=customer_id, query=query)\n",
    "\n",
    "    # for batch in stream:\n",
    "    #     for row in batch.results:\n",
    "    #         print(\n",
    "    #             f\"Campaign with ID {row.campaign.id} and name \"\n",
    "    #             f'\"{row.campaign.name}\" was found.'\n",
    "    #         )\n",
    "            \n"
   ]
  },
  {
   "cell_type": "code",
   "execution_count": null,
   "metadata": {},
   "outputs": [],
   "source": [
    "def get_conversion_actions(client, customer_id):\n",
    "    ga_service = client.get_service(\"GoogleAdsService\", version=\"v18\")\n",
    "    # query = \"SELECT campaign.name FROM campaign LIMIT 10\"\n",
    "    query = \"\"\"\n",
    "        SELECT\n",
    "  conversion_action.id,\n",
    "  conversion_action.name,\n",
    "  conversion_action.status,\n",
    "  conversion_action.category,\n",
    "  conversion_action.type,\n",
    "  conversion_action.owner_customer,\n",
    "  conversion_action.resource_name\n",
    "FROM\n",
    "  conversion_action\"\"\"\n",
    "    response = ga_service.search_stream(customer_id=customer_id, query=query)\n",
    "    # Access the iterator in the same scope as where the service object was created.\n",
    "    try:\n",
    "        for batch in response:\n",
    "            for row in batch.results:\n",
    "                print(\n",
    "                    f\"Conversion Action  ID {row.conversion_action.id} and name \"\n",
    "                    f'\"{row.conversion_action.name}\" was found.'\n",
    "                )\n",
    "    except GoogleAdsException as ex:\n",
    "        print(ex)\n",
    "        \n",
    "def get_conversion_custom_variables(client, customer_id):\n",
    "    ga_service = client.get_service(\"GoogleAdsService\", version=\"v18\")\n",
    "    # query = \"SELECT campaign.name FROM campaign LIMIT 10\"\n",
    "    query = \"\"\"\n",
    "        SELECT\n",
    "  conversion_custom_variable.id,\n",
    "  conversion_custom_variable.name,\n",
    "  conversion_custom_variable.tag,\n",
    "  conversion_custom_variable.status,\n",
    "  conversion_custom_variable.resource_name\n",
    "FROM\n",
    "  conversion_custom_variable\"\"\"\n",
    "    response = ga_service.search_stream(customer_id=customer_id, query=query)\n",
    "    # Access the iterator in the same scope as where the service object was created.\n",
    "    try:\n",
    "        for batch in response:\n",
    "            for row in batch.results:\n",
    "                print(\n",
    "                    f\"Conversion Custom Variable  ID {row.conversion_custom_variable.id} and name \"\n",
    "                    f'\"{row.conversion_custom_variable.name}\" was found.'\n",
    "                )\n",
    "    except GoogleAdsException as ex:\n",
    "        print(ex)"
   ]
  },
  {
   "cell_type": "code",
   "execution_count": null,
   "metadata": {},
   "outputs": [],
   "source": [
    "get_conversion_custom_variables(googleads_client, '6111416100')"
   ]
  },
  {
   "cell_type": "code",
   "execution_count": null,
   "metadata": {},
   "outputs": [],
   "source": []
  },
  {
   "cell_type": "code",
   "execution_count": null,
   "metadata": {},
   "outputs": [],
   "source": [
    "get_conversion_actions(googleads_client, '6111416100')"
   ]
  },
  {
   "cell_type": "code",
   "execution_count": null,
   "metadata": {},
   "outputs": [],
   "source": [
    "def add_offline_click_conversion(\n",
    "    client,\n",
    "    customer_id,\n",
    "    conversion_action_id,\n",
    "    gclid,\n",
    "    conversion_date_time,\n",
    "    conversion_value,\n",
    "    conversion_custom_variable_id,\n",
    "    conversion_custom_variable_value,\n",
    "    gbraid,\n",
    "    wbraid,\n",
    "    order_id,\n",
    "    ad_user_data_consent,\n",
    "):\n",
    "    \"\"\"Creates a click conversion with a default currency of USD.\n",
    "\n",
    "    Args:\n",
    "        client: An initialized GoogleAdsClient instance.\n",
    "        customer_id: The client customer ID string.\n",
    "        conversion_action_id: The ID of the conversion action to upload to.\n",
    "        gclid: The Google Click Identifier ID. If set, the wbraid and gbraid\n",
    "            parameters must be None.\n",
    "        conversion_date_time: The the date and time of the conversion (should be\n",
    "            after the click time). The format is 'yyyy-mm-dd hh:mm:ss+|-hh:mm',\n",
    "            e.g. '2021-01-01 12:32:45-08:00'.\n",
    "        conversion_value: The conversion value in the desired currency.\n",
    "        conversion_custom_variable_id: The ID of the conversion custom\n",
    "            variable to associate with the upload.\n",
    "        conversion_custom_variable_value: The str value of the conversion custom\n",
    "            variable to associate with the upload.\n",
    "        gbraid: The GBRAID for the iOS app conversion. If set, the gclid and\n",
    "            wbraid parameters must be None.\n",
    "        wbraid: The WBRAID for the iOS app conversion. If set, the gclid and\n",
    "            gbraid parameters must be None.\n",
    "        order_id: The order ID for the click conversion.\n",
    "        ad_user_data_consent: The ad user data consent for the click.\n",
    "    \"\"\"\n",
    "    click_conversion = client.get_type(\"ClickConversion\")\n",
    "    conversion_upload_service = client.get_service(\"ConversionUploadService\")\n",
    "    conversion_action_service = client.get_service(\"ConversionActionService\")\n",
    "    click_conversion.conversion_action = (\n",
    "        conversion_action_service.conversion_action_path(\n",
    "            customer_id, conversion_action_id\n",
    "        )\n",
    "    )\n",
    "\n",
    "    # Sets the single specified ID field.\n",
    "    if gclid:\n",
    "        click_conversion.gclid = gclid\n",
    "        print(f\"Setting gclid to {gclid}\")\n",
    "    elif gbraid:\n",
    "        click_conversion.gbraid = gbraid\n",
    "        print(f\"Setting gbraid to {gbraid}\")\n",
    "    else:\n",
    "        click_conversion.wbraid = wbraid\n",
    "        print(f\"Setting wbraid to {wbraid}\")\n",
    "\n",
    "    click_conversion.conversion_value = float(conversion_value)\n",
    "    click_conversion.conversion_date_time = conversion_date_time\n",
    "    click_conversion.currency_code = \"USD\"\n",
    "\n",
    "    if conversion_custom_variable_id and conversion_custom_variable_value:\n",
    "        conversion_custom_variable = client.get_type(\"CustomVariable\")\n",
    "        conversion_custom_variable.conversion_custom_variable = (\n",
    "            conversion_upload_service.conversion_custom_variable_path(\n",
    "                customer_id, conversion_custom_variable_id\n",
    "            )\n",
    "        )\n",
    "        conversion_custom_variable.value = conversion_custom_variable_value\n",
    "        click_conversion.custom_variables.append(conversion_custom_variable)\n",
    "\n",
    "    if order_id:\n",
    "        click_conversion.order_id = order_id\n",
    "\n",
    "    # Sets the consent information, if provided.\n",
    "    if ad_user_data_consent:\n",
    "        # Specifies whether user consent was obtained for the data you are\n",
    "        # uploading. For more details, see:\n",
    "        # https://www.google.com/about/company/user-consent-policy\n",
    "        click_conversion.consent.ad_user_data = client.enums.ConsentStatusEnum[\n",
    "            ad_user_data_consent\n",
    "        ]\n",
    "\n",
    "    # Uploads the click conversion. Partial failure must be set to True here.\n",
    "    #\n",
    "    # NOTE: This request only uploads a single conversion, but if you have\n",
    "    # multiple conversions to upload, it's most efficient to upload them in a\n",
    "    # single request. See the following for per-request limits for reference:\n",
    "    # https://developers.google.com/google-ads/api/docs/best-practices/quotas#conversion_upload_service\n",
    "    request = client.get_type(\"UploadClickConversionsRequest\")\n",
    "    request.customer_id = customer_id\n",
    "    request.conversions.append(click_conversion)\n",
    "    request.partial_failure = True\n",
    "    conversion_upload_response = (\n",
    "        conversion_upload_service.upload_click_conversions(\n",
    "            request=request,\n",
    "        )\n",
    "    )\n",
    "    print(conversion_upload_response.results)\n",
    "    uploaded_click_conversion = conversion_upload_response.results[0]\n",
    "    print(\n",
    "        f\"Uploaded conversion that occurred at \"\n",
    "        f'\"{uploaded_click_conversion.conversion_date_time}\" from '\n",
    "        f'Google Click ID \"{uploaded_click_conversion.gclid}\" '\n",
    "        f'to \"{uploaded_click_conversion.conversion_action}\"'\n",
    "\n",
    "    )"
   ]
  },
  {
   "cell_type": "code",
   "execution_count": null,
   "metadata": {},
   "outputs": [],
   "source": [
    "for conversion in upload_records:\n",
    "    add_offline_click_conversion(\n",
    "        client=googleads_client,\n",
    "        customer_id=str(conversion['customer_id_str']),\n",
    "        conversion_action_id=269508876,\n",
    "        gclid=conversion['click_view_gclid'],\n",
    "        conversion_date_time=conversion['call_timestamp_prepped'],\n",
    "        conversion_value=1.00,\n",
    "        conversion_custom_variable_id=23124982,\n",
    "        conversion_custom_variable_value='search_power',\n",
    "        gbraid=None,\n",
    "        wbraid=None,\n",
    "        order_id=None,\n",
    "        ad_user_data_consent=None\n",
    "    )"
   ]
  },
  {
   "cell_type": "code",
   "execution_count": null,
   "metadata": {},
   "outputs": [],
   "source": [
    "ga_service_2 = googleads_client.get_service(\"GoogleAdsService\", version=\"v18\")\n",
    "gaql = \"\"\"\n",
    "SELECT offline_conversion_upload_conversion_action_summary.conversion_action_id, offline_conversion_upload_conversion_action_summary.conversion_action_name, offline_conversion_upload_conversion_action_summary.total_event_count, offline_conversion_upload_conversion_action_summary.successful_event_count, offline_conversion_upload_conversion_action_summary.resource_name, offline_conversion_upload_conversion_action_summary.pending_event_count, offline_conversion_upload_conversion_action_summary.job_summaries FROM offline_conversion_upload_conversion_action_summary WHERE offline_conversion_upload_conversion_action_summary.conversion_action_id = 269508876 AND customer.id = 6111416100\"\"\"\n",
    "response = ga_service_2.search_stream(customer_id='6111416100', query=gaql)\n",
    "    # Access the iterator in the same scope as where the service object was created.\n",
    "try:\n",
    "    for batch in response:\n",
    "        for row in batch.results:\n",
    "            print(\n",
    "                row\n",
    "            )\n",
    "except GoogleAdsException as ex:\n",
    "    print(ex)\n",
    "# response = googleads_client.service.search_stream(customer_id='6111416100', query=gaql)"
   ]
  },
  {
   "cell_type": "code",
   "execution_count": null,
   "metadata": {},
   "outputs": [],
   "source": [
    "gaql = \"\"\"\n",
    "SELECT\n",
    "  customer.id,\n",
    "  offline_conversion_upload_client_summary.alerts,\n",
    "  offline_conversion_upload_client_summary.client,\n",
    "  offline_conversion_upload_client_summary.daily_summaries,\n",
    "  offline_conversion_upload_client_summary.job_summaries,\n",
    "  offline_conversion_upload_client_summary.last_upload_date_time,\n",
    "  offline_conversion_upload_client_summary.pending_event_count,\n",
    "  offline_conversion_upload_client_summary.pending_rate,\n",
    "  offline_conversion_upload_client_summary.status,\n",
    "  offline_conversion_upload_client_summary.success_rate,\n",
    "  offline_conversion_upload_client_summary.successful_event_count,\n",
    "  offline_conversion_upload_client_summary.total_event_count\n",
    "FROM offline_conversion_upload_client_summary\n",
    "WHERE customer.id = 6111416100\n",
    "\"\"\"\n",
    "response = ga_service_2.search_stream(customer_id='6111416100', query=gaql)\n",
    "    # Access the iterator in the same scope as where the service object was created.\n",
    "try:\n",
    "    for batch in response:\n",
    "        for row in batch.results:\n",
    "            print(\n",
    "                row\n",
    "            )\n",
    "except GoogleAdsException as ex:\n",
    "    print(ex)"
   ]
  },
  {
   "cell_type": "code",
   "execution_count": null,
   "metadata": {},
   "outputs": [],
   "source": [
    "gaql = \"\"\"\n",
    "SELECT\n",
    "  offline_conversion_upload_conversion_action_summary.conversion_action_name,\n",
    "  offline_conversion_upload_conversion_action_summary.alerts,\n",
    "  offline_conversion_upload_conversion_action_summary.client,\n",
    "  offline_conversion_upload_conversion_action_summary.daily_summaries,\n",
    "  offline_conversion_upload_conversion_action_summary.job_summaries,\n",
    "  offline_conversion_upload_conversion_action_summary.last_upload_date_time,\n",
    "  offline_conversion_upload_conversion_action_summary.pending_event_count,\n",
    "  offline_conversion_upload_conversion_action_summary.status,\n",
    "  offline_conversion_upload_conversion_action_summary.successful_event_count,\n",
    "  offline_conversion_upload_conversion_action_summary.total_event_count\n",
    "FROM offline_conversion_upload_conversion_action_summary\n",
    "WHERE offline_conversion_upload_conversion_action_summary.conversion_action_id = 269508876 and customer.id = 6111416100\n",
    "\"\"\"\n",
    "response = ga_service_2.search_stream(customer_id='6111416100', query=gaql)\n",
    "    # Access the iterator in the same scope as where the service object was created.\n",
    "try:\n",
    "    for batch in response:\n",
    "        for row in batch.results:\n",
    "            print(\n",
    "                row\n",
    "            )\n",
    "except GoogleAdsException as ex:\n",
    "    print(ex)"
   ]
  },
  {
   "cell_type": "code",
   "execution_count": null,
   "metadata": {},
   "outputs": [],
   "source": [
    "def check_offline_user_data_job_status(client, customer_id, job_id):\n",
    "    \"\"\"Retrieves and prints the status of the OfflineUserDataJob with the given job ID.\n",
    "\n",
    "    Args:\n",
    "        client: An initialized GoogleAdsClient instance.\n",
    "        customer_id: The client customer ID string without hyphens.\n",
    "        job_id: The ID of the OfflineUserDataJob to check.\n",
    "    \"\"\"\n",
    "    offline_user_data_job_service = client.get_service(\"OfflineUserDataJobService\")\n",
    "    resource_name = offline_user_data_job_service.offline_user_data_job_path(\n",
    "        customer_id, job_id\n",
    "    )\n",
    "\n",
    "    try:\n",
    "        # Retrieve the OfflineUserDataJob.\n",
    "        offline_user_data_job = offline_user_data_job_service.get_offline_user_data_job(\n",
    "            resource_name=resource_name\n",
    "        )\n",
    "\n",
    "        status_enum = client.enums.OfflineUserDataJobStatusEnum\n",
    "        status_name = status_enum.OfflineUserDataJobStatus.Name(\n",
    "            offline_user_data_job.status\n",
    "        )\n",
    "\n",
    "        print(f\"OfflineUserDataJob with resource name '{resource_name}' has status: {status_name}\")\n",
    "\n",
    "        if offline_user_data_job.status == status_enum.FAILED:\n",
    "            failure_reason_enum = client.enums.OfflineUserDataJobFailureReasonEnum\n",
    "            failure_reason_name = failure_reason_enum.OfflineUserDataJobFailureReason.Name(\n",
    "                offline_user_data_job.failure_reason\n",
    "            )\n",
    "            print(f\"Failure reason: {failure_reason_name}\")\n",
    "\n",
    "    except GoogleAdsException as ex:\n",
    "        print(\n",
    "            f\"Request with ID '{ex.request_id}' failed with status \"\n",
    "            f\"'{ex.error.code().name}' and includes the following errors:\"\n",
    "        )\n",
    "        for error in ex.failure.errors:\n",
    "            print(f\"\\tError code: {error.error_code}\")\n",
    "            print(f\"\\tMessage: {error.message}\")\n",
    "            if error.location:\n",
    "                for field_path_element in error.location.field_path_elements:\n",
    "                    print(f\"\\t\\tOn field: {field_path_element.field_name}\")"
   ]
  },
  {
   "cell_type": "code",
   "execution_count": null,
   "metadata": {},
   "outputs": [],
   "source": [
    "check_offline_user_data_job_status(googleads_client, '6111416100', 5773612345940294139)"
   ]
  },
  {
   "cell_type": "code",
   "execution_count": null,
   "metadata": {},
   "outputs": [],
   "source": [
    "get_customer_info(googleads_client, '6111416100')"
   ]
  }
 ],
 "metadata": {
  "kernelspec": {
   "display_name": ".venv",
   "language": "python",
   "name": "python3"
  },
  "language_info": {
   "codemirror_mode": {
    "name": "ipython",
    "version": 3
   },
   "file_extension": ".py",
   "mimetype": "text/x-python",
   "name": "python",
   "nbconvert_exporter": "python",
   "pygments_lexer": "ipython3",
   "version": "3.10.12"
  }
 },
 "nbformat": 4,
 "nbformat_minor": 2
}
