{
 "cells": [
  {
   "cell_type": "code",
   "execution_count": null,
   "metadata": {},
   "outputs": [],
   "source": [
    "\n",
    "import importlib\n",
    "import functions.core.core_functions as core_functions\n",
    "import functions.pyarrow_functions as pyarrow_functions\n",
    "import dask\n",
    "import dask.dataframe as dd\n",
    "from dask.dataframe.utils import assert_eq\n",
    "import pandas as pd\n",
    "import numpy as np\n",
    "import pandas_gbq\n",
    "import json\n",
    "import gc\n",
    "import cudf\n",
    "import os\n",
    "import yaml\n",
    "from concurrent.futures import ProcessPoolExecutor\n",
    "from functools import partial\n",
    "from google.cloud import bigquery, storage, bigquery_storage\n",
    "\n",
    "dask.config.set({\"dataframe.backend\": \"cudf\"})\n",
    "\n",
    "importlib.reload(core_functions)\n",
    "importlib.reload(pyarrow_functions)"
   ]
  },
  {
   "cell_type": "code",
   "execution_count": null,
   "metadata": {},
   "outputs": [],
   "source": [
    "resp = {}\n",
    "resp = core_functions.initialize_clients(service_account_secret_name='SA_N90_CORE_APPS')\n",
    "\n",
    "config = resp.get('config')\n",
    "n90_bigquery_client = resp.get('clients').get('bigquery_client')\n",
    "storage_client = resp.get('clients').get('storage_client')\n",
    "\n",
    "unknown_dma_overrides = config.get('national_dma_overrides_to_us_national')"
   ]
  },
  {
   "cell_type": "code",
   "execution_count": null,
   "metadata": {},
   "outputs": [],
   "source": [
    "detections_sql = f\"\"\"\n",
    "    SELECT * FROM `next90-core-applications.n90_data_lake.avs_detections`\n",
    "    WHERE sfdc_advertiser_id = 'a1mUV000000FiYbYAK'\n",
    "    AND detection_timestamp >= '2024-09-01' and detection_timestamp < '2024-12-01'\n",
    "    AND origin = 'L'\n",
    "    AND name not in ('DIRECTV', 'DISH')\n",
    "    \"\"\"\n",
    "    \n",
    "detections_df = bigquery.Client().query(detections_sql).result().to_dataframe()\n",
    "\n",
    "activity_session_sql = f\"\"\"\n",
    "    SELECT activity_session_id, uuid, created_time, neustar_dma_id, neustar_country, neustar_state, url, domain, zip_code, lat, lon, calculated_source, is_bot, device_type, device_model, hour, city, session_id, numPvs, gclid, brand_id, year, month, day, sfdc_account_id, sfdc_account_name, sfdc_advertiser_id, activity_session_timestamp, process_month_group, bcw_monday_match, week_within_month, activity_date_time, click_view_gclid, bcw_id, bcw_index, bcm_index, geo_location, geo_type, geo_neustar_id, segments_date, segments_day_of_week, segments_media, segments_month_label, segments_quarter_label, segments_week_label, segments_month, segments_quarter, segments_week, segments_year, segments_broadcast_year, segments_broadcast_month_index, segments_broadcast_week_index, session_timestamp, activity_session_last_updated, activity_session_last_audit_id\n",
    "    FROM `next90-core-applications.n90_data_lake.activity_sessions`\n",
    "    WHERE sfdc_advertiser_id = 'a1mUV000000FiYbYAK'\n",
    "    AND activity_date_time >= '2024-09-01' and activity_date_time < '2024-12-01'\n",
    "    \"\"\"\n",
    "    \n",
    "activity_session_df = bigquery.Client().query(activity_session_sql).result().to_dataframe()"
   ]
  },
  {
   "cell_type": "code",
   "execution_count": null,
   "metadata": {},
   "outputs": [],
   "source": [
    "detections_df['length_in_seconds'] = detections_df['length_in_seconds'].astype('Int64').fillna(30)\n",
    "detections_df['attribution_window'] = (detections_df['length_in_seconds'] + 300).astype('Int64')\n",
    "detections_df['detection_timestamp'] = pd.to_datetime(detections_df['detection_timestamp'])\n",
    "detections_df['attribution_end_time'] = detections_df['detection_timestamp'] + pd.to_timedelta(detections_df['attribution_window'], unit='s')"
   ]
  },
  {
   "cell_type": "code",
   "execution_count": null,
   "metadata": {},
   "outputs": [],
   "source": [
    "activity_session_df['session_time'] = pd.to_datetime(activity_session_df['activity_session_timestamp'])"
   ]
  },
  {
   "cell_type": "code",
   "execution_count": null,
   "metadata": {},
   "outputs": [],
   "source": [
    "detections_df['geo_neustar_id'].drop_duplicates().to_list()"
   ]
  },
  {
   "cell_type": "code",
   "execution_count": null,
   "metadata": {},
   "outputs": [],
   "source": [
    "activity_session_df.dtypes"
   ]
  },
  {
   "cell_type": "code",
   "execution_count": null,
   "metadata": {},
   "outputs": [],
   "source": [
    "import pandas as pd\n",
    "\n",
    "# Example dataframes: airings_df and web_sessions_df\n",
    "# airings_df: ['airing_time', 'dma', 'attribution_window']\n",
    "# web_sessions_df: ['session_time', 'dma']\n",
    "\n",
    "# Step 1: Calculate attribution windows\n",
    "detections_df['attribution_end_time'] = detections_df['detection_timestamp'] + pd.to_timedelta(detections_df['attribution_window'], unit='s')\n",
    "detections_df['airing_time'] = detections_df['detection_timestamp']\n",
    "airings_df = detections_df.copy()\n",
    "web_sessions_df = activity_session_df.copy()\n",
    "# Step 2: Match sessions to airings\n",
    "def match_sessions(airings_df, web_sessions_df):\n",
    "    matches = []\n",
    "    for _, airing in airings_df.iterrows():\n",
    "        # Filter web sessions within time range and matching DMA\n",
    "        valid_sessions = web_sessions_df[\n",
    "            (web_sessions_df['session_time'] >= airing['detection_timestamp']) &\n",
    "            (web_sessions_df['session_time'] <= airing['attribution_end_time']) &\n",
    "            (web_sessions_df['geo_neustar_id'] == airing['geo_neustar_id'])\n",
    "        ]\n",
    "        valid_sessions = valid_sessions.copy()\n",
    "        valid_sessions['airing_time'] = airing['airing_time']\n",
    "        matches.append(valid_sessions)\n",
    "\n",
    "    # Combine all matches\n",
    "    matched_df = pd.concat(matches, ignore_index=True)\n",
    "    return matched_df\n",
    "\n",
    "# Step 3: Apply function\n",
    "matched_sessions = match_sessions(airings_df, web_sessions_df)\n",
    "\n",
    "# Step 4: Analyze results\n",
    "# Example: Response curve by time since airing\n",
    "matched_sessions['time_since_airing'] = (matched_sessions['session_time'] - matched_sessions['airing_time']).dt.total_seconds()\n",
    "response_curve = matched_sessions.groupby('time_since_airing').size()\n",
    "response_curve.plot(kind='line', title='Response Curve')"
   ]
  }
 ],
 "metadata": {
  "kernelspec": {
   "display_name": ".venv",
   "language": "python",
   "name": "python3"
  },
  "language_info": {
   "codemirror_mode": {
    "name": "ipython",
    "version": 3
   },
   "file_extension": ".py",
   "mimetype": "text/x-python",
   "name": "python",
   "nbconvert_exporter": "python",
   "pygments_lexer": "ipython3",
   "version": "3.10.12"
  }
 },
 "nbformat": 4,
 "nbformat_minor": 2
}
