{
 "cells": [
  {
   "cell_type": "code",
   "execution_count": null,
   "metadata": {},
   "outputs": [],
   "source": [
    "%pip install -q -r requirements.txt"
   ]
  },
  {
   "cell_type": "code",
   "execution_count": null,
   "metadata": {},
   "outputs": [],
   "source": [
    "import importlib\n",
    "import functions.core_functions as core_functions\n",
    "import functions.pyarrow_functions as pyarrow_functions\n",
    "import dask\n",
    "import dask.dataframe as dd\n",
    "from dask.dataframe.utils import assert_eq\n",
    "import pandas as pd\n",
    "import numpy as np\n",
    "import pandas_gbq\n",
    "import json\n",
    "import gc\n",
    "import cudf\n",
    "import os\n",
    "import yaml\n",
    "from concurrent.futures import ProcessPoolExecutor\n",
    "from functools import partial\n",
    "\n",
    "dask.config.set({\"dataframe.backend\": \"cudf\"})\n",
    "\n",
    "importlib.reload(core_functions)\n",
    "importlib.reload(pyarrow_functions)"
   ]
  },
  {
   "cell_type": "code",
   "execution_count": null,
   "metadata": {},
   "outputs": [],
   "source": [
    "table_schema = yaml.safe_load(open('table-schemas.yaml'))\n",
    "\n",
    "detections_python = table_schema['detections_python_schema']\n",
    "detections_python\n",
    "\n",
    "n90_schema_dict = {item['name']: item['type'] for item in detections_python}\n",
    "veil_schema_dict = {item['name']: item['type'] for item in detections_python if 'geo_' not in item['name']}\n",
    "final_detections_cols = []\n",
    "for item in detections_python:\n",
    "    final_detections_cols.append(item['name'])\n",
    "    # print(f\"{item['name']} = {item['type']}\")"
   ]
  },
  {
   "cell_type": "code",
   "execution_count": null,
   "metadata": {},
   "outputs": [],
   "source": [
    "resp = {}\n",
    "resp = core_functions.initialize_clients(service_account_secret_name='SA_ADHOC_BILLING')\n",
    "resp2 = core_functions.initialize_clients(service_account_secret_name='SA_N90_CORE_APPS')\n",
    "\n",
    "config = resp.get('config')\n",
    "bigquery_client = resp.get('clients').get('bigquery_client')\n",
    "n90_bigquery_client = resp2.get('clients').get('bigquery_client')\n",
    "storage_client = resp.get('clients').get('storage_client')\n",
    "sf_client = resp.get('clients').get('sf_client')\n",
    "veil_billing = resp.get('config').get('veil_billing')\n",
    "veil_vars = resp.get('config').get('veil_billing').get('vars')\n",
    "# print(veil_billing)\n",
    "sfdc_adv_account_cols = veil_billing.get('vars').get('sfdc_adv_account_cols')\n",
    "sfdc_rate_card_cols = veil_billing.get('vars').get('sfdc_rate_card_cols')\n",
    "unknown_dma_overrides = config.get('national_dma_overrides_to_us_national')"
   ]
  },
  {
   "cell_type": "code",
   "execution_count": null,
   "metadata": {},
   "outputs": [],
   "source": [
    "\n",
    "broadcast_cal_sql = f\"\"\"\n",
    "    SELECT id as bcw_id, bcw_index, bcm_index, bcw_start_date, bcw_end_date FROM `next90-core-applications.n90_data_lake.lu_broadcast_week`\n",
    "\"\"\"\n",
    "broadcast_cal_df = core_functions.fetch_gbq_data(query=broadcast_cal_sql, bigquery_client=bigquery_client)"
   ]
  },
  {
   "cell_type": "code",
   "execution_count": null,
   "metadata": {},
   "outputs": [],
   "source": [
    "os.environ['GOOGLE_APPLICATION_CREDENTIALS'] = config.get('SA_N90_CORE_APPS')\n",
    "geo_zip_sql = f\"\"\"\n",
    "    SELECT *\n",
    "    from `next90-core-applications.next90_analytics.geos` WHERE geo_type = 'zip'\n",
    "    AND geo_country in ('United States', 'Canada')\n",
    "\"\"\"\n",
    "geo_zip_df = core_functions.fix_df_dtypes(core_functions.fetch_gbq_data(query=geo_zip_sql, bigquery_client=n90_bigquery_client))\n",
    "\n",
    "geo_dma_sql = f\"\"\"\n",
    "    SELECT *\n",
    "    from `next90-core-applications.next90_analytics.geos` WHERE geo_type = 'dma'\n",
    "    AND geo_country in ('United States', 'Canada')\n",
    "\"\"\"\n",
    "geo_dma_df = core_functions.fix_df_dtypes(core_functions.fetch_gbq_data(query=geo_dma_sql, bigquery_client=n90_bigquery_client))\n",
    "\n",
    "\n",
    "# int_cols = ['geo_neustar_id','geo_us_msa_id', 'geo_us_county_fips_id','geo_ca_cma_id']\n",
    "# for col in int_cols:\n",
    "#     geo_zip_df[col] = geo_df[col].fillna(-1).astype('Int64')"
   ]
  },
  {
   "cell_type": "code",
   "execution_count": null,
   "metadata": {},
   "outputs": [],
   "source": [
    "os.environ['GOOGLE_APPLICATION_CREDENTIALS'] = config.get('SA_N90_CORE_APPS')\n",
    "broadcast_cal_sql = f\"\"\"\n",
    "    SELECT id as bcw_id, bcw_index, bcm_index, bcw_start_date, bcw_end_date FROM `next90-core-applications.n90_data_lake.lu_broadcast_week`\n",
    "\"\"\"\n",
    "broadcast_cal_df = core_functions.fetch_gbq_data(query=broadcast_cal_sql, bigquery_client=n90_bigquery_client)"
   ]
  },
  {
   "cell_type": "code",
   "execution_count": null,
   "metadata": {},
   "outputs": [],
   "source": [
    "geo_dma_df.dtypes"
   ]
  },
  {
   "cell_type": "code",
   "execution_count": null,
   "metadata": {},
   "outputs": [],
   "source": [
    "data_start_date = '2024-11-01'\n",
    "data_end_date = '2024-12-01'\n",
    "\n",
    "process_sql = f\"\"\"\n",
    "    SELECT distinct EXTRACT(YEAR FROM created_time) as year, EXTRACT(MONTH FROM created_time) as month, EXTRACT(DAY FROM created_time) as  day\n",
    " from `next90-core-applications.n90_data_lake.activity_sessions`\n",
    "    WHERE created_time >= '{data_start_date}' and created_time < '{data_end_date}'\n",
    "    order by year, month, day\n",
    "\"\"\"\n",
    "\n",
    "process_df = core_functions.fetch_gbq_data(process_sql, n90_bigquery_client)\n",
    "process_df"
   ]
  },
  {
   "cell_type": "code",
   "execution_count": null,
   "metadata": {},
   "outputs": [],
   "source": [
    "process_days = process_df.to_dict(orient='records')\n",
    "process_days\n",
    "for record in process_days:\n",
    "    print(f'year: {record[\"year\"]}, month: {record[\"month\"]}, day: {record[\"day\"]}')"
   ]
  },
  {
   "cell_type": "code",
   "execution_count": null,
   "metadata": {},
   "outputs": [],
   "source": [
    "process_days[0]"
   ]
  },
  {
   "cell_type": "code",
   "execution_count": null,
   "metadata": {},
   "outputs": [],
   "source": [
    "process_days = [{'year': 2024, 'month': 11, 'day': 1}]\n",
    "for record in process_days:\n",
    "    year = record['year']\n",
    "    month = record['month']\n",
    "    day = record['day']\n",
    "    print(f'Processing year: {year}, month: {month}')\n",
    "\n",
    "    activity_sessions_sql = f\"\"\"\n",
    "        WITH brandToEncoding AS (\n",
    "        SELECT distinct\n",
    "        t.brand_id, t.aeis_id, e.encoding_id, e.sfdc_account_id, e.sfdc_account_name, e.sfdc_advertiser_id\n",
    "        FROM `next90-core-applications.omniData.first_party_triggers` t\n",
    "        join `next90-core-applications.omniData.avs_encodings` e\n",
    "        on cast(t.aeis_id as INT64) = e.aeis_id\n",
    "        )\n",
    "\n",
    "        SELECT distinct a.*, sfdc_account_id, sfdc_account_name, sfdc_advertiser_id,  p.ip_address\n",
    "        FROM `next90-core-applications.omniData.activity_sessions` a\n",
    "        JOIN `next90-core-applications.omniData.pageviews` p\n",
    "        on a.session_id = p.activity_session_id\n",
    "        left join brandToEncoding b\n",
    "        on a.brand_id = b.brand_id\n",
    "        WHERE EXTRACT(YEAR FROM created_time) = {year} and EXTRACT(MONTH FROM created_time) = {month} \n",
    "    \"\"\"\n",
    "    activity_sessions_df = core_functions.fetch_gbq_data(activity_sessions_sql, n90_bigquery_client)\n",
    "    \n",
    "    print('adding broadcast cal details')\n",
    "    \n",
    "    activity_sessions_df['key'] = 1\n",
    "    broadcast_cal_df['key'] = 1\n",
    "    activity_sessions_df['activity_date_time'] = pd.to_datetime(activity_sessions_df['created_time'])\n",
    "    broadcast_cal_df['bcw_start_date'] = pd.to_datetime(broadcast_cal_df['bcw_start_date'])\n",
    "    broadcast_cal_df['bcw_end_date'] = pd.to_datetime(broadcast_cal_df['bcw_end_date'])\n",
    "    ref_df = None\n",
    "    ref_df = broadcast_cal_df.loc[(broadcast_cal_df['bcw_start_date'] >= activity_sessions_df['activity_date_time'].min()) & (broadcast_cal_df['bcw_end_date'] <= activity_sessions_df['activity_date_time'].max())]\n",
    "    merged_df = None\n",
    "    merged_df = pd.merge(activity_sessions_df, ref_df, on='key').drop(['key', 'activity_date_time'], axis=1)\n",
    "    merged_df.sort_values(by=['id'], inplace=True)\n",
    "    merged_df = merged_df.drop_duplicates(subset=['id'], keep='first')\n",
    "    activity_sessions_df = merged_df\n",
    "    activity_sessions_df['_YEAR'] = activity_sessions_df['created_time'].dt.year.astype('Int64')\n",
    "    activity_sessions_df['_MONTH'] = activity_sessions_df['created_time'].dt.month.astype('Int64')\n",
    "    activity_sessions_df['_DAY'] = activity_sessions_df['created_time'].dt.day.astype('Int64')\n",
    "    \n",
    "    activity_sessions_with_geos_df = activity_sessions_df.merge(geo_zip_df, how='left', left_on='zip_code', right_on='geo_location')\n",
    "    activity_sessions_with_geos_df.loc[activity_sessions_with_geos_df['neustar_country'].isin(['us', 'ca']) & activity_sessions_with_geos_df['geo_country'].isnull()]\n",
    "    activity_sessions_with_geos_df['neustar_dma_id'] = activity_sessions_with_geos_df['neustar_dma_id'].astype('string')\n",
    "    activity_sessions_with_geos_df.loc[activity_sessions_with_geos_df['neustar_country'].isin(['us', 'ca']) & activity_sessions_with_geos_df['geo_country'].isnull()] = activity_sessions_with_geos_df.loc[activity_sessions_with_geos_df['neustar_country'].isin(['us', 'ca']) & activity_sessions_with_geos_df['geo_country'].isnull()].merge(geo_dma_df, how='left', left_on='neustar_dma_id', right_on='geo_location')\n",
    "    activity_sessions_with_geos_df['neustar_dma_id'] = activity_sessions_with_geos_df['neustar_dma_id'].astype('Int64')\n",
    "    activity_sessions_df\n"
   ]
  },
  {
   "cell_type": "code",
   "execution_count": null,
   "metadata": {},
   "outputs": [],
   "source": [
    "activity_sessions_df"
   ]
  },
  {
   "cell_type": "code",
   "execution_count": null,
   "metadata": {},
   "outputs": [],
   "source": [
    "activity_sessions_df['_YEAR'] = activity_sessions_df['created_time'].dt.year.astype('Int64')\n",
    "activity_sessions_df['_MONTH'] = activity_sessions_df['created_time'].dt.month.astype('Int64')\n",
    "activity_sessions_df['_DAY'] = activity_sessions_df['created_time'].dt.day.astype('Int64')"
   ]
  },
  {
   "cell_type": "code",
   "execution_count": null,
   "metadata": {},
   "outputs": [],
   "source": [
    "activity_sessions_with_geos_df = activity_sessions_df.merge(geo_zip_df, how='left', left_on='zip_code', right_on='geo_location')\n",
    "activity_sessions_with_geos_df"
   ]
  },
  {
   "cell_type": "code",
   "execution_count": null,
   "metadata": {},
   "outputs": [],
   "source": [
    "activity_sessions_with_geos_df.loc[activity_sessions_with_geos_df['neustar_country'].isin(['us', 'ca']) & activity_sessions_with_geos_df['geo_country'].isnull()]\n",
    "activity_sessions_with_geos_df['neustar_dma_id'] = activity_sessions_with_geos_df['neustar_dma_id'].astype('string')\n",
    "activity_sessions_with_geos_df.loc[activity_sessions_with_geos_df['neustar_country'].isin(['us', 'ca']) & activity_sessions_with_geos_df['geo_country'].isnull()] = activity_sessions_with_geos_df.loc[activity_sessions_with_geos_df['neustar_country'].isin(['us', 'ca']) & activity_sessions_with_geos_df['geo_country'].isnull()].merge(geo_dma_df, how='left', left_on='neustar_dma_id', right_on='geo_location')\n",
    "activity_sessions_with_geos_df['neustar_dma_id'] = activity_sessions_with_geos_df['neustar_dma_id'].astype('Int64')\n",
    "activity_sessions_with_geos_df.loc[activity_sessions_with_geos_df['neustar_country'].isin(['us', 'ca']) & activity_sessions_with_geos_df['geo_country'].isnull()]"
   ]
  },
  {
   "cell_type": "code",
   "execution_count": null,
   "metadata": {},
   "outputs": [],
   "source": [
    "activity_sessions_with_geos_df['neustar_dma_id'] = activity_sessions_with_geos_df['neustar_dma_id'].astype('Int64')"
   ]
  },
  {
   "cell_type": "code",
   "execution_count": null,
   "metadata": {},
   "outputs": [],
   "source": [
    "for col in activity_sessions_with_geos_df.columns:\n",
    "    print(f'col: {col}, dtype: {activity_sessions_with_geos_df[col].dtype}, sample: {activity_sessions_with_geos_df[col].iloc[0]}')"
   ]
  }
 ],
 "metadata": {
  "kernelspec": {
   "display_name": ".venv",
   "language": "python",
   "name": "python3"
  },
  "language_info": {
   "codemirror_mode": {
    "name": "ipython",
    "version": 3
   },
   "file_extension": ".py",
   "mimetype": "text/x-python",
   "name": "python",
   "nbconvert_exporter": "python",
   "pygments_lexer": "ipython3",
   "version": "3.10.12"
  }
 },
 "nbformat": 4,
 "nbformat_minor": 2
}
